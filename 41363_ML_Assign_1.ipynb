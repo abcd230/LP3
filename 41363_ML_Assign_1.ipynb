{
 "cells": [
  {
   "cell_type": "markdown",
   "id": "56d9830c",
   "metadata": {},
   "source": [
    "# Assignment No 1\n",
    "### 41363 Rushikesh Chaudhari\n",
    "## Batch R3\n",
    "## Predict the price of the Uber ride from a given pickup point to the agreed drop-off location.\n",
    "## Perform following tasks:\n",
    "## 1. Pre-process the dataset.\n",
    "## 2. Identify outliers.\n",
    "## 3. Check the correlation.\n",
    "## 4. Implement linear regression and random forest regression models.\n",
    "## 5. Evaluate the models and compare their respective scores like R2, RMSE, etc.\n"
   ]
  },
  {
   "cell_type": "code",
   "execution_count": 2,
   "id": "e5f6517d",
   "metadata": {},
   "outputs": [
    {
     "name": "stdout",
     "output_type": "stream",
     "text": [
      "Collecting matplotlib\n",
      "  Downloading matplotlib-3.6.2-cp310-cp310-win_amd64.whl (7.2 MB)\n",
      "     ---------------------------------------- 7.2/7.2 MB 567.3 kB/s eta 0:00:00\n",
      "Collecting numpy>=1.19\n",
      "  Downloading numpy-1.23.4-cp310-cp310-win_amd64.whl (14.6 MB)\n",
      "     -------------------------------------- 14.6/14.6 MB 631.4 kB/s eta 0:00:00\n",
      "Collecting contourpy>=1.0.1\n",
      "  Downloading contourpy-1.0.6-cp310-cp310-win_amd64.whl (163 kB)\n",
      "     ------------------------------------ 163.6/163.6 KB 363.4 kB/s eta 0:00:00\n",
      "Requirement already satisfied: python-dateutil>=2.7 in c:\\users\\dell\\appdata\\local\\programs\\python\\python310\\lib\\site-packages (from matplotlib) (2.8.2)\n",
      "Requirement already satisfied: packaging>=20.0 in c:\\users\\dell\\appdata\\local\\programs\\python\\python310\\lib\\site-packages (from matplotlib) (21.3)\n",
      "Collecting fonttools>=4.22.0\n",
      "  Downloading fonttools-4.38.0-py3-none-any.whl (965 kB)\n",
      "     ------------------------------------ 965.4/965.4 KB 265.8 kB/s eta 0:00:00\n",
      "Collecting kiwisolver>=1.0.1\n",
      "  Downloading kiwisolver-1.4.4-cp310-cp310-win_amd64.whl (55 kB)\n",
      "     --------------------------------------- 55.3/55.3 KB 99.4 kB/s eta 0:00:00\n",
      "Requirement already satisfied: pyparsing>=2.2.1 in c:\\users\\dell\\appdata\\local\\programs\\python\\python310\\lib\\site-packages (from matplotlib) (3.0.9)\n",
      "Collecting pillow>=6.2.0\n",
      "  Downloading Pillow-9.3.0-cp310-cp310-win_amd64.whl (2.5 MB)\n",
      "     ---------------------------------------- 2.5/2.5 MB 458.1 kB/s eta 0:00:00\n",
      "Collecting cycler>=0.10\n",
      "  Downloading cycler-0.11.0-py3-none-any.whl (6.4 kB)\n",
      "Requirement already satisfied: six>=1.5 in c:\\users\\dell\\appdata\\local\\programs\\python\\python310\\lib\\site-packages (from python-dateutil>=2.7->matplotlib) (1.16.0)\n",
      "Installing collected packages: pillow, numpy, kiwisolver, fonttools, cycler, contourpy, matplotlib\n",
      "Successfully installed contourpy-1.0.6 cycler-0.11.0 fonttools-4.38.0 kiwisolver-1.4.4 matplotlib-3.6.2 numpy-1.23.4 pillow-9.3.0\n",
      "Note: you may need to restart the kernel to use updated packages.\n"
     ]
    },
    {
     "name": "stderr",
     "output_type": "stream",
     "text": [
      "WARNING: You are using pip version 22.0.4; however, version 22.3.1 is available.\n",
      "You should consider upgrading via the 'C:\\Users\\DELL\\AppData\\Local\\Programs\\Python\\Python310\\python.exe -m pip install --upgrade pip' command.\n"
     ]
    }
   ],
   "source": [
    "pip install matplotlib"
   ]
  },
  {
   "cell_type": "code",
   "execution_count": 2,
   "id": "b3d4b6ac",
   "metadata": {},
   "outputs": [],
   "source": [
    "import matplotlib.pyplot as plt\n",
    "import numpy as np\n",
    "import pandas as pd"
   ]
  },
  {
   "cell_type": "code",
   "execution_count": 3,
   "id": "29b527cb",
   "metadata": {},
   "outputs": [
    {
     "data": {
      "text/html": [
       "<div>\n",
       "<style scoped>\n",
       "    .dataframe tbody tr th:only-of-type {\n",
       "        vertical-align: middle;\n",
       "    }\n",
       "\n",
       "    .dataframe tbody tr th {\n",
       "        vertical-align: top;\n",
       "    }\n",
       "\n",
       "    .dataframe thead th {\n",
       "        text-align: right;\n",
       "    }\n",
       "</style>\n",
       "<table border=\"1\" class=\"dataframe\">\n",
       "  <thead>\n",
       "    <tr style=\"text-align: right;\">\n",
       "      <th></th>\n",
       "      <th>Unnamed: 0</th>\n",
       "      <th>key</th>\n",
       "      <th>fare_amount</th>\n",
       "      <th>pickup_datetime</th>\n",
       "      <th>pickup_longitude</th>\n",
       "      <th>pickup_latitude</th>\n",
       "      <th>dropoff_longitude</th>\n",
       "      <th>dropoff_latitude</th>\n",
       "      <th>passenger_count</th>\n",
       "    </tr>\n",
       "  </thead>\n",
       "  <tbody>\n",
       "    <tr>\n",
       "      <th>0</th>\n",
       "      <td>24238194</td>\n",
       "      <td>2015-05-07 19:52:06.0000003</td>\n",
       "      <td>7.5</td>\n",
       "      <td>2015-05-07 19:52:06 UTC</td>\n",
       "      <td>-73.999817</td>\n",
       "      <td>40.738354</td>\n",
       "      <td>-73.999512</td>\n",
       "      <td>40.723217</td>\n",
       "      <td>1</td>\n",
       "    </tr>\n",
       "    <tr>\n",
       "      <th>1</th>\n",
       "      <td>27835199</td>\n",
       "      <td>2009-07-17 20:04:56.0000002</td>\n",
       "      <td>7.7</td>\n",
       "      <td>2009-07-17 20:04:56 UTC</td>\n",
       "      <td>-73.994355</td>\n",
       "      <td>40.728225</td>\n",
       "      <td>-73.994710</td>\n",
       "      <td>40.750325</td>\n",
       "      <td>1</td>\n",
       "    </tr>\n",
       "    <tr>\n",
       "      <th>2</th>\n",
       "      <td>44984355</td>\n",
       "      <td>2009-08-24 21:45:00.00000061</td>\n",
       "      <td>12.9</td>\n",
       "      <td>2009-08-24 21:45:00 UTC</td>\n",
       "      <td>-74.005043</td>\n",
       "      <td>40.740770</td>\n",
       "      <td>-73.962565</td>\n",
       "      <td>40.772647</td>\n",
       "      <td>1</td>\n",
       "    </tr>\n",
       "    <tr>\n",
       "      <th>3</th>\n",
       "      <td>25894730</td>\n",
       "      <td>2009-06-26 08:22:21.0000001</td>\n",
       "      <td>5.3</td>\n",
       "      <td>2009-06-26 08:22:21 UTC</td>\n",
       "      <td>-73.976124</td>\n",
       "      <td>40.790844</td>\n",
       "      <td>-73.965316</td>\n",
       "      <td>40.803349</td>\n",
       "      <td>3</td>\n",
       "    </tr>\n",
       "    <tr>\n",
       "      <th>4</th>\n",
       "      <td>17610152</td>\n",
       "      <td>2014-08-28 17:47:00.000000188</td>\n",
       "      <td>16.0</td>\n",
       "      <td>2014-08-28 17:47:00 UTC</td>\n",
       "      <td>-73.925023</td>\n",
       "      <td>40.744085</td>\n",
       "      <td>-73.973082</td>\n",
       "      <td>40.761247</td>\n",
       "      <td>5</td>\n",
       "    </tr>\n",
       "  </tbody>\n",
       "</table>\n",
       "</div>"
      ],
      "text/plain": [
       "   Unnamed: 0                            key  fare_amount  \\\n",
       "0    24238194    2015-05-07 19:52:06.0000003          7.5   \n",
       "1    27835199    2009-07-17 20:04:56.0000002          7.7   \n",
       "2    44984355   2009-08-24 21:45:00.00000061         12.9   \n",
       "3    25894730    2009-06-26 08:22:21.0000001          5.3   \n",
       "4    17610152  2014-08-28 17:47:00.000000188         16.0   \n",
       "\n",
       "           pickup_datetime  pickup_longitude  pickup_latitude  \\\n",
       "0  2015-05-07 19:52:06 UTC        -73.999817        40.738354   \n",
       "1  2009-07-17 20:04:56 UTC        -73.994355        40.728225   \n",
       "2  2009-08-24 21:45:00 UTC        -74.005043        40.740770   \n",
       "3  2009-06-26 08:22:21 UTC        -73.976124        40.790844   \n",
       "4  2014-08-28 17:47:00 UTC        -73.925023        40.744085   \n",
       "\n",
       "   dropoff_longitude  dropoff_latitude  passenger_count  \n",
       "0         -73.999512         40.723217                1  \n",
       "1         -73.994710         40.750325                1  \n",
       "2         -73.962565         40.772647                1  \n",
       "3         -73.965316         40.803349                3  \n",
       "4         -73.973082         40.761247                5  "
      ]
     },
     "execution_count": 3,
     "metadata": {},
     "output_type": "execute_result"
    }
   ],
   "source": [
    "uber = pd.read_csv('uber.csv')\n",
    "\n",
    "uber.head()"
   ]
  },
  {
   "cell_type": "code",
   "execution_count": 4,
   "id": "39ae7219",
   "metadata": {},
   "outputs": [
    {
     "name": "stdout",
     "output_type": "stream",
     "text": [
      "<class 'pandas.core.frame.DataFrame'>\n",
      "RangeIndex: 200000 entries, 0 to 199999\n",
      "Data columns (total 9 columns):\n",
      " #   Column             Non-Null Count   Dtype  \n",
      "---  ------             --------------   -----  \n",
      " 0   Unnamed: 0         200000 non-null  int64  \n",
      " 1   key                200000 non-null  object \n",
      " 2   fare_amount        200000 non-null  float64\n",
      " 3   pickup_datetime    200000 non-null  object \n",
      " 4   pickup_longitude   200000 non-null  float64\n",
      " 5   pickup_latitude    200000 non-null  float64\n",
      " 6   dropoff_longitude  199999 non-null  float64\n",
      " 7   dropoff_latitude   199999 non-null  float64\n",
      " 8   passenger_count    200000 non-null  int64  \n",
      "dtypes: float64(5), int64(2), object(2)\n",
      "memory usage: 13.7+ MB\n"
     ]
    }
   ],
   "source": [
    "uber.info()"
   ]
  },
  {
   "cell_type": "code",
   "execution_count": 5,
   "id": "04db007a",
   "metadata": {},
   "outputs": [
    {
     "data": {
      "text/plain": [
       "Unnamed: 0           0\n",
       "key                  0\n",
       "fare_amount          0\n",
       "pickup_datetime      0\n",
       "pickup_longitude     0\n",
       "pickup_latitude      0\n",
       "dropoff_longitude    1\n",
       "dropoff_latitude     1\n",
       "passenger_count      0\n",
       "dtype: int64"
      ]
     },
     "execution_count": 5,
     "metadata": {},
     "output_type": "execute_result"
    }
   ],
   "source": [
    "uber.isnull().sum()"
   ]
  },
  {
   "cell_type": "code",
   "execution_count": 6,
   "id": "59756572",
   "metadata": {},
   "outputs": [],
   "source": [
    "uber_2 = uber.drop(['Unnamed: 0','key'],axis=1)\n",
    "uber_2.dropna(axis=0,inplace=True)"
   ]
  },
  {
   "cell_type": "code",
   "execution_count": 7,
   "id": "59317918",
   "metadata": {},
   "outputs": [
    {
     "data": {
      "text/plain": [
       "fare_amount          0\n",
       "pickup_datetime      0\n",
       "pickup_longitude     0\n",
       "pickup_latitude      0\n",
       "dropoff_longitude    0\n",
       "dropoff_latitude     0\n",
       "passenger_count      0\n",
       "dtype: int64"
      ]
     },
     "execution_count": 7,
     "metadata": {},
     "output_type": "execute_result"
    }
   ],
   "source": [
    "uber_2.isnull().sum()"
   ]
  },
  {
   "cell_type": "code",
   "execution_count": 8,
   "id": "83afefb7",
   "metadata": {},
   "outputs": [],
   "source": [
    "def haversine (lon_1, lon_2, lat_1, lat_2):\n",
    "    \n",
    "    lon_1, lon_2, lat_1, lat_2 = map(np.radians, [lon_1, lon_2, lat_1, lat_2])  #Degrees to Radians\n",
    "    \n",
    "    \n",
    "    diff_lon = lon_2 - lon_1\n",
    "    diff_lat = lat_2 - lat_1\n",
    "    \n",
    "\n",
    "    km = 2 * 6371 * np.arcsin(np.sqrt(np.sin(diff_lat/2.0)**2 +  np.cos(lat_1) * np.cos(lat_2) * np.sin(diff_lon/2.0)**2))\n",
    "    \n",
    "    return km"
   ]
  },
  {
   "cell_type": "code",
   "execution_count": 9,
   "id": "f8b593fc",
   "metadata": {},
   "outputs": [],
   "source": [
    "uber_2['Distance']= haversine(uber_2['pickup_longitude'],uber_2['dropoff_longitude'],\n",
    "                             uber_2['pickup_latitude'],uber_2['dropoff_latitude'])\n",
    "\n",
    "uber_2['Distance'] = uber_2['Distance'].astype(float).round(2)"
   ]
  },
  {
   "cell_type": "code",
   "execution_count": 10,
   "id": "88498221",
   "metadata": {},
   "outputs": [
    {
     "data": {
      "text/plain": [
       "Text(0, 0.5, 'fare_amount')"
      ]
     },
     "execution_count": 10,
     "metadata": {},
     "output_type": "execute_result"
    },
    {
     "data": {
      "image/png": "[encoded data removed]",
      "text/plain": [
       "<Figure size 640x480 with 1 Axes>"
      ]
     },
     "metadata": {},
     "output_type": "display_data"
    }
   ],
   "source": [
    "plt.scatter(uber_2['Distance'], uber_2['fare_amount'])\n",
    "plt.xlabel(\"Distance\")\n",
    "plt.ylabel(\"fare_amount\")"
   ]
  },
  {
   "cell_type": "code",
   "execution_count": 11,
   "id": "da3a0c34",
   "metadata": {},
   "outputs": [],
   "source": [
    "uber_2.drop(uber_2[uber_2['Distance'] > 60].index, inplace = True)\n",
    "uber_2.drop(uber_2[uber_2['Distance'] == 0].index, inplace = True)\n",
    "uber_2.drop(uber_2[uber_2['fare_amount'] == 0].index, inplace = True)\n",
    "uber_2.drop(uber_2[uber_2['fare_amount'] < 0].index, inplace = True)"
   ]
  },
  {
   "cell_type": "code",
   "execution_count": 12,
   "id": "a9874fc1",
   "metadata": {},
   "outputs": [],
   "source": [
    "uber_2.drop(uber_2[(uber_2['fare_amount']>100) & (uber_2['Distance']<1)].index, inplace = True)\n",
    "uber_2.drop(uber_2[(uber_2['fare_amount']<100) & (uber_2['Distance']>100)].index, inplace = True )"
   ]
  },
  {
   "cell_type": "code",
   "execution_count": 13,
   "id": "0c560bba",
   "metadata": {},
   "outputs": [
    {
     "name": "stdout",
     "output_type": "stream",
     "text": [
      "<class 'pandas.core.frame.DataFrame'>\n",
      "Int64Index: 193481 entries, 0 to 199999\n",
      "Data columns (total 8 columns):\n",
      " #   Column             Non-Null Count   Dtype  \n",
      "---  ------             --------------   -----  \n",
      " 0   fare_amount        193481 non-null  float64\n",
      " 1   pickup_datetime    193481 non-null  object \n",
      " 2   pickup_longitude   193481 non-null  float64\n",
      " 3   pickup_latitude    193481 non-null  float64\n",
      " 4   dropoff_longitude  193481 non-null  float64\n",
      " 5   dropoff_latitude   193481 non-null  float64\n",
      " 6   passenger_count    193481 non-null  int64  \n",
      " 7   Distance           193481 non-null  float64\n",
      "dtypes: float64(6), int64(1), object(1)\n",
      "memory usage: 13.3+ MB\n"
     ]
    }
   ],
   "source": [
    "uber_2.info()"
   ]
  },
  {
   "cell_type": "code",
   "execution_count": 14,
   "id": "92c89c7b",
   "metadata": {
    "scrolled": true
   },
   "outputs": [
    {
     "data": {
      "text/plain": [
       "Text(0, 0.5, 'fare_amount')"
      ]
     },
     "execution_count": 14,
     "metadata": {},
     "output_type": "execute_result"
    },
    {
     "data": {
      "image/png": "[encoded data removed]",
      "text/plain": [
       "<Figure size 640x480 with 1 Axes>"
      ]
     },
     "metadata": {},
     "output_type": "display_data"
    }
   ],
   "source": [
    "plt.scatter(uber_2['Distance'], uber_2['fare_amount'])\n",
    "plt.xlabel(\"Distance\")\n",
    "plt.ylabel(\"fare_amount\")"
   ]
  },
  {
   "cell_type": "code",
   "execution_count": 15,
   "id": "7ba77845",
   "metadata": {},
   "outputs": [
    {
     "name": "stderr",
     "output_type": "stream",
     "text": [
      "C:\\Users\\DELL\\AppData\\Local\\Temp\\ipykernel_12480\\3234837007.py:1: FutureWarning: The default value of numeric_only in DataFrame.corr is deprecated. In a future version, it will default to False. Select only valid columns or specify the value of numeric_only to silence this warning.\n",
      "  corr = uber_2.corr()\n"
     ]
    },
    {
     "data": {
      "text/html": [
       "<style type=\"text/css\">\n",
       "#T_35862_row0_col0, #T_35862_row1_col1, #T_35862_row1_col3, #T_35862_row2_col2, #T_35862_row3_col1, #T_35862_row3_col3, #T_35862_row4_col4, #T_35862_row5_col5, #T_35862_row6_col6 {\n",
       "  background-color: #00441b;\n",
       "  color: #f1f1f1;\n",
       "}\n",
       "#T_35862_row0_col1 {\n",
       "  background-color: #64c1a2;\n",
       "  color: #000000;\n",
       "}\n",
       "#T_35862_row0_col2, #T_35862_row5_col2 {\n",
       "  background-color: #6dc5a9;\n",
       "  color: #000000;\n",
       "}\n",
       "#T_35862_row0_col3, #T_35862_row5_col1, #T_35862_row5_col3, #T_35862_row6_col1, #T_35862_row6_col3 {\n",
       "  background-color: #65c2a3;\n",
       "  color: #000000;\n",
       "}\n",
       "#T_35862_row0_col4, #T_35862_row5_col4 {\n",
       "  background-color: #68c3a6;\n",
       "  color: #000000;\n",
       "}\n",
       "#T_35862_row0_col5, #T_35862_row1_col0, #T_35862_row2_col1, #T_35862_row2_col3, #T_35862_row5_col0 {\n",
       "  background-color: #f4fbfc;\n",
       "  color: #000000;\n",
       "}\n",
       "#T_35862_row0_col6, #T_35862_row6_col0 {\n",
       "  background-color: #006729;\n",
       "  color: #f1f1f1;\n",
       "}\n",
       "#T_35862_row1_col2, #T_35862_row1_col4, #T_35862_row2_col0, #T_35862_row2_col5, #T_35862_row3_col2, #T_35862_row3_col4, #T_35862_row4_col0, #T_35862_row4_col1, #T_35862_row4_col3, #T_35862_row4_col5, #T_35862_row4_col6 {\n",
       "  background-color: #f7fcfd;\n",
       "  color: #000000;\n",
       "}\n",
       "#T_35862_row1_col5, #T_35862_row3_col0, #T_35862_row3_col5, #T_35862_row6_col5 {\n",
       "  background-color: #f5fbfc;\n",
       "  color: #000000;\n",
       "}\n",
       "#T_35862_row1_col6, #T_35862_row2_col6, #T_35862_row3_col6, #T_35862_row5_col6 {\n",
       "  background-color: #f6fcfd;\n",
       "  color: #000000;\n",
       "}\n",
       "#T_35862_row2_col4, #T_35862_row4_col2 {\n",
       "  background-color: #004a1e;\n",
       "  color: #f1f1f1;\n",
       "}\n",
       "#T_35862_row6_col2 {\n",
       "  background-color: #6ac4a7;\n",
       "  color: #000000;\n",
       "}\n",
       "#T_35862_row6_col4 {\n",
       "  background-color: #67c2a5;\n",
       "  color: #000000;\n",
       "}\n",
       "</style>\n",
       "<table id=\"T_35862\">\n",
       "  <thead>\n",
       "    <tr>\n",
       "      <th class=\"blank level0\" >&nbsp;</th>\n",
       "      <th id=\"T_35862_level0_col0\" class=\"col_heading level0 col0\" >fare_amount</th>\n",
       "      <th id=\"T_35862_level0_col1\" class=\"col_heading level0 col1\" >pickup_longitude</th>\n",
       "      <th id=\"T_35862_level0_col2\" class=\"col_heading level0 col2\" >pickup_latitude</th>\n",
       "      <th id=\"T_35862_level0_col3\" class=\"col_heading level0 col3\" >dropoff_longitude</th>\n",
       "      <th id=\"T_35862_level0_col4\" class=\"col_heading level0 col4\" >dropoff_latitude</th>\n",
       "      <th id=\"T_35862_level0_col5\" class=\"col_heading level0 col5\" >passenger_count</th>\n",
       "      <th id=\"T_35862_level0_col6\" class=\"col_heading level0 col6\" >Distance</th>\n",
       "    </tr>\n",
       "  </thead>\n",
       "  <tbody>\n",
       "    <tr>\n",
       "      <th id=\"T_35862_level0_row0\" class=\"row_heading level0 row0\" >fare_amount</th>\n",
       "      <td id=\"T_35862_row0_col0\" class=\"data row0 col0\" >1.000000</td>\n",
       "      <td id=\"T_35862_row0_col1\" class=\"data row0 col1\" >0.012070</td>\n",
       "      <td id=\"T_35862_row0_col2\" class=\"data row0 col2\" >-0.008682</td>\n",
       "      <td id=\"T_35862_row0_col3\" class=\"data row0 col3\" >0.010555</td>\n",
       "      <td id=\"T_35862_row0_col4\" class=\"data row0 col4\" >-0.008695</td>\n",
       "      <td id=\"T_35862_row0_col5\" class=\"data row0 col5\" >0.013508</td>\n",
       "      <td id=\"T_35862_row0_col6\" class=\"data row0 col6\" >0.893050</td>\n",
       "    </tr>\n",
       "    <tr>\n",
       "      <th id=\"T_35862_level0_row1\" class=\"row_heading level0 row1\" >pickup_longitude</th>\n",
       "      <td id=\"T_35862_row1_col0\" class=\"data row1 col0\" >0.012070</td>\n",
       "      <td id=\"T_35862_row1_col1\" class=\"data row1 col1\" >1.000000</td>\n",
       "      <td id=\"T_35862_row1_col2\" class=\"data row1 col2\" >-0.949099</td>\n",
       "      <td id=\"T_35862_row1_col3\" class=\"data row1 col3\" >0.999883</td>\n",
       "      <td id=\"T_35862_row1_col4\" class=\"data row1 col4\" >-0.993975</td>\n",
       "      <td id=\"T_35862_row1_col5\" class=\"data row1 col5\" >0.009174</td>\n",
       "      <td id=\"T_35862_row1_col6\" class=\"data row1 col6\" >0.005337</td>\n",
       "    </tr>\n",
       "    <tr>\n",
       "      <th id=\"T_35862_level0_row2\" class=\"row_heading level0 row2\" >pickup_latitude</th>\n",
       "      <td id=\"T_35862_row2_col0\" class=\"data row2 col0\" >-0.008682</td>\n",
       "      <td id=\"T_35862_row2_col1\" class=\"data row2 col1\" >-0.949099</td>\n",
       "      <td id=\"T_35862_row2_col2\" class=\"data row2 col2\" >1.000000</td>\n",
       "      <td id=\"T_35862_row2_col3\" class=\"data row2 col3\" >-0.949095</td>\n",
       "      <td id=\"T_35862_row2_col4\" class=\"data row2 col4\" >0.954759</td>\n",
       "      <td id=\"T_35862_row2_col5\" class=\"data row2 col5\" >-0.009219</td>\n",
       "      <td id=\"T_35862_row2_col6\" class=\"data row2 col6\" >0.003232</td>\n",
       "    </tr>\n",
       "    <tr>\n",
       "      <th id=\"T_35862_level0_row3\" class=\"row_heading level0 row3\" >dropoff_longitude</th>\n",
       "      <td id=\"T_35862_row3_col0\" class=\"data row3 col0\" >0.010555</td>\n",
       "      <td id=\"T_35862_row3_col1\" class=\"data row3 col1\" >0.999883</td>\n",
       "      <td id=\"T_35862_row3_col2\" class=\"data row3 col2\" >-0.949095</td>\n",
       "      <td id=\"T_35862_row3_col3\" class=\"data row3 col3\" >1.000000</td>\n",
       "      <td id=\"T_35862_row3_col4\" class=\"data row3 col4\" >-0.993962</td>\n",
       "      <td id=\"T_35862_row3_col5\" class=\"data row3 col5\" >0.009168</td>\n",
       "      <td id=\"T_35862_row3_col6\" class=\"data row3 col6\" >0.004406</td>\n",
       "    </tr>\n",
       "    <tr>\n",
       "      <th id=\"T_35862_level0_row4\" class=\"row_heading level0 row4\" >dropoff_latitude</th>\n",
       "      <td id=\"T_35862_row4_col0\" class=\"data row4 col0\" >-0.008695</td>\n",
       "      <td id=\"T_35862_row4_col1\" class=\"data row4 col1\" >-0.993975</td>\n",
       "      <td id=\"T_35862_row4_col2\" class=\"data row4 col2\" >0.954759</td>\n",
       "      <td id=\"T_35862_row4_col3\" class=\"data row4 col3\" >-0.993962</td>\n",
       "      <td id=\"T_35862_row4_col4\" class=\"data row4 col4\" >1.000000</td>\n",
       "      <td id=\"T_35862_row4_col5\" class=\"data row4 col5\" >-0.009266</td>\n",
       "      <td id=\"T_35862_row4_col6\" class=\"data row4 col6\" >-0.002122</td>\n",
       "    </tr>\n",
       "    <tr>\n",
       "      <th id=\"T_35862_level0_row5\" class=\"row_heading level0 row5\" >passenger_count</th>\n",
       "      <td id=\"T_35862_row5_col0\" class=\"data row5 col0\" >0.013508</td>\n",
       "      <td id=\"T_35862_row5_col1\" class=\"data row5 col1\" >0.009174</td>\n",
       "      <td id=\"T_35862_row5_col2\" class=\"data row5 col2\" >-0.009219</td>\n",
       "      <td id=\"T_35862_row5_col3\" class=\"data row5 col3\" >0.009168</td>\n",
       "      <td id=\"T_35862_row5_col4\" class=\"data row5 col4\" >-0.009266</td>\n",
       "      <td id=\"T_35862_row5_col5\" class=\"data row5 col5\" >1.000000</td>\n",
       "      <td id=\"T_35862_row5_col6\" class=\"data row5 col6\" >0.007441</td>\n",
       "    </tr>\n",
       "    <tr>\n",
       "      <th id=\"T_35862_level0_row6\" class=\"row_heading level0 row6\" >Distance</th>\n",
       "      <td id=\"T_35862_row6_col0\" class=\"data row6 col0\" >0.893050</td>\n",
       "      <td id=\"T_35862_row6_col1\" class=\"data row6 col1\" >0.005337</td>\n",
       "      <td id=\"T_35862_row6_col2\" class=\"data row6 col2\" >0.003232</td>\n",
       "      <td id=\"T_35862_row6_col3\" class=\"data row6 col3\" >0.004406</td>\n",
       "      <td id=\"T_35862_row6_col4\" class=\"data row6 col4\" >-0.002122</td>\n",
       "      <td id=\"T_35862_row6_col5\" class=\"data row6 col5\" >0.007441</td>\n",
       "      <td id=\"T_35862_row6_col6\" class=\"data row6 col6\" >1.000000</td>\n",
       "    </tr>\n",
       "  </tbody>\n",
       "</table>\n"
      ],
      "text/plain": [
       "<pandas.io.formats.style.Styler at 0x2ab6d4c3c40>"
      ]
     },
     "execution_count": 15,
     "metadata": {},
     "output_type": "execute_result"
    }
   ],
   "source": [
    "corr = uber_2.corr()\n",
    "\n",
    "corr.style.background_gradient(cmap='BuGn')"
   ]
  },
  {
   "cell_type": "code",
   "execution_count": 16,
   "id": "f7af0206",
   "metadata": {},
   "outputs": [],
   "source": [
    "X = uber_2['Distance'].values.reshape(-1,1)      #Independent Variable\n",
    "y = uber_2['fare_amount'].values.reshape(-1,1)  "
   ]
  },
  {
   "cell_type": "code",
   "execution_count": null,
   "id": "dbcadf12",
   "metadata": {},
   "outputs": [],
   "source": []
  },
  {
   "cell_type": "code",
   "execution_count": 17,
   "id": "cd01c9e4",
   "metadata": {},
   "outputs": [
    {
     "name": "stdout",
     "output_type": "stream",
     "text": [
      "[[-0.4011162 ]\n",
      " [-0.38006651]\n",
      " [ 0.16722527]\n",
      " ...\n",
      " [ 2.06169682]\n",
      " [ 0.33562274]\n",
      " [ 0.29352337]]\n",
      "[[-0.46599576]\n",
      " [-0.24929862]\n",
      " [ 0.46746884]\n",
      " ...\n",
      " [ 2.63721838]\n",
      " [ 0.05074357]\n",
      " [ 0.57303924]]\n"
     ]
    }
   ],
   "source": [
    "from sklearn.preprocessing import StandardScaler\n",
    "std = StandardScaler()\n",
    "y_std = std.fit_transform(y)\n",
    "print(y_std)\n",
    "\n",
    "x_std = std.fit_transform(X)\n",
    "print(x_std)"
   ]
  },
  {
   "cell_type": "code",
   "execution_count": 18,
   "id": "e2a335ea",
   "metadata": {},
   "outputs": [],
   "source": [
    "from sklearn.model_selection import train_test_split\n",
    "X_train, X_test, y_train, y_test = train_test_split(x_std, y_std, test_size=0.2, random_state=0)"
   ]
  },
  {
   "cell_type": "code",
   "execution_count": 19,
   "id": "d8948b66",
   "metadata": {},
   "outputs": [
    {
     "name": "stdout",
     "output_type": "stream",
     "text": [
      "Training set score: 0.80\n",
      "Test set score: 0.8006071\n"
     ]
    }
   ],
   "source": [
    "from sklearn.linear_model import LinearRegression\n",
    "l_reg = LinearRegression()\n",
    "l_reg.fit(X_train, y_train)\n",
    "\n",
    "print(\"Training set score: {:.2f}\".format(l_reg.score(X_train, y_train)))\n",
    "print(\"Test set score: {:.7f}\".format(l_reg.score(X_test, y_test)))"
   ]
  },
  {
   "cell_type": "code",
   "execution_count": 20,
   "id": "2465a1c0",
   "metadata": {},
   "outputs": [],
   "source": [
    "y_pred = l_reg.predict(X_test)\n",
    "df = {'Actual': y_test, 'Predicted': y_pred}\n"
   ]
  },
  {
   "cell_type": "code",
   "execution_count": 21,
   "id": "d4f348bd",
   "metadata": {
    "scrolled": true
   },
   "outputs": [
    {
     "name": "stdout",
     "output_type": "stream",
     "text": [
      "Mean Absolute Error: 0.23979020298617207\n",
      "Mean Absolute % Error: 2.712440862806946\n",
      "Mean Squared Error: 0.19845894128014663\n",
      "Root Mean Squared Error: 0.44548730765325584\n"
     ]
    }
   ],
   "source": [
    "from sklearn import metrics\n",
    "print('Mean Absolute Error:', metrics.mean_absolute_error(y_test, y_pred))\n",
    "print('Mean Absolute % Error:', metrics.mean_absolute_percentage_error(y_test, y_pred))\n",
    "print('Mean Squared Error:', metrics.mean_squared_error(y_test, y_pred))\n",
    "print('Root Mean Squared Error:', np.sqrt(metrics.mean_squared_error(y_pred,y_test)))"
   ]
  },
  {
   "cell_type": "code",
   "execution_count": 27,
   "id": "2bf63d46",
   "metadata": {},
   "outputs": [
    {
     "name": "stderr",
     "output_type": "stream",
     "text": [
      "C:\\Users\\DELL\\AppData\\Local\\Temp\\ipykernel_17544\\3351067881.py:5: DataConversionWarning: A column-vector y was passed when a 1d array was expected. Please change the shape of y to (n_samples,), for example using ravel().\n",
      "  regressor.fit(X_train, y_train)\n"
     ]
    },
    {
     "data": {
      "text/html": [
       "<style>#sk-container-id-1 {color: black;background-color: white;}#sk-container-id-1 pre{padding: 0;}#sk-container-id-1 div.sk-toggleable {background-color: white;}#sk-container-id-1 label.sk-toggleable__label {cursor: pointer;display: block;width: 100%;margin-bottom: 0;padding: 0.3em;box-sizing: border-box;text-align: center;}#sk-container-id-1 label.sk-toggleable__label-arrow:before {content: \"▸\";float: left;margin-right: 0.25em;color: #696969;}#sk-container-id-1 label.sk-toggleable__label-arrow:hover:before {color: black;}#sk-container-id-1 div.sk-estimator:hover label.sk-toggleable__label-arrow:before {color: black;}#sk-container-id-1 div.sk-toggleable__content {max-height: 0;max-width: 0;overflow: hidden;text-align: left;background-color: #f0f8ff;}#sk-container-id-1 div.sk-toggleable__content pre {margin: 0.2em;color: black;border-radius: 0.25em;background-color: #f0f8ff;}#sk-container-id-1 input.sk-toggleable__control:checked~div.sk-toggleable__content {max-height: 200px;max-width: 100%;overflow: auto;}#sk-container-id-1 input.sk-toggleable__control:checked~label.sk-toggleable__label-arrow:before {content: \"▾\";}#sk-container-id-1 div.sk-estimator input.sk-toggleable__control:checked~label.sk-toggleable__label {background-color: #d4ebff;}#sk-container-id-1 div.sk-label input.sk-toggleable__control:checked~label.sk-toggleable__label {background-color: #d4ebff;}#sk-container-id-1 input.sk-hidden--visually {border: 0;clip: rect(1px 1px 1px 1px);clip: rect(1px, 1px, 1px, 1px);height: 1px;margin: -1px;overflow: hidden;padding: 0;position: absolute;width: 1px;}#sk-container-id-1 div.sk-estimator {font-family: monospace;background-color: #f0f8ff;border: 1px dotted black;border-radius: 0.25em;box-sizing: border-box;margin-bottom: 0.5em;}#sk-container-id-1 div.sk-estimator:hover {background-color: #d4ebff;}#sk-container-id-1 div.sk-parallel-item::after {content: \"\";width: 100%;border-bottom: 1px solid gray;flex-grow: 1;}#sk-container-id-1 div.sk-label:hover label.sk-toggleable__label {background-color: #d4ebff;}#sk-container-id-1 div.sk-serial::before {content: \"\";position: absolute;border-left: 1px solid gray;box-sizing: border-box;top: 0;bottom: 0;left: 50%;z-index: 0;}#sk-container-id-1 div.sk-serial {display: flex;flex-direction: column;align-items: center;background-color: white;padding-right: 0.2em;padding-left: 0.2em;position: relative;}#sk-container-id-1 div.sk-item {position: relative;z-index: 1;}#sk-container-id-1 div.sk-parallel {display: flex;align-items: stretch;justify-content: center;background-color: white;position: relative;}#sk-container-id-1 div.sk-item::before, #sk-container-id-1 div.sk-parallel-item::before {content: \"\";position: absolute;border-left: 1px solid gray;box-sizing: border-box;top: 0;bottom: 0;left: 50%;z-index: -1;}#sk-container-id-1 div.sk-parallel-item {display: flex;flex-direction: column;z-index: 1;position: relative;background-color: white;}#sk-container-id-1 div.sk-parallel-item:first-child::after {align-self: flex-end;width: 50%;}#sk-container-id-1 div.sk-parallel-item:last-child::after {align-self: flex-start;width: 50%;}#sk-container-id-1 div.sk-parallel-item:only-child::after {width: 0;}#sk-container-id-1 div.sk-dashed-wrapped {border: 1px dashed gray;margin: 0 0.4em 0.5em 0.4em;box-sizing: border-box;padding-bottom: 0.4em;background-color: white;}#sk-container-id-1 div.sk-label label {font-family: monospace;font-weight: bold;display: inline-block;line-height: 1.2em;}#sk-container-id-1 div.sk-label-container {text-align: center;}#sk-container-id-1 div.sk-container {/* jupyter's `normalize.less` sets `[hidden] { display: none; }` but bootstrap.min.css set `[hidden] { display: none !important; }` so we also need the `!important` here to be able to override the default hidden behavior on the sphinx rendered scikit-learn.org. See: https://github.com/scikit-learn/scikit-learn/issues/21755 */display: inline-block !important;position: relative;}#sk-container-id-1 div.sk-text-repr-fallback {display: none;}</style><div id=\"sk-container-id-1\" class=\"sk-top-container\"><div class=\"sk-text-repr-fallback\"><pre>RandomForestRegressor(random_state=0)</pre><b>In a Jupyter environment, please rerun this cell to show the HTML representation or trust the notebook. <br />On GitHub, the HTML representation is unable to render, please try loading this page with nbviewer.org.</b></div><div class=\"sk-container\" hidden><div class=\"sk-item\"><div class=\"sk-estimator sk-toggleable\"><input class=\"sk-toggleable__control sk-hidden--visually\" id=\"sk-estimator-id-1\" type=\"checkbox\" checked><label for=\"sk-estimator-id-1\" class=\"sk-toggleable__label sk-toggleable__label-arrow\">RandomForestRegressor</label><div class=\"sk-toggleable__content\"><pre>RandomForestRegressor(random_state=0)</pre></div></div></div></div></div>"
      ],
      "text/plain": [
       "RandomForestRegressor(random_state=0)"
      ]
     },
     "execution_count": 27,
     "metadata": {},
     "output_type": "execute_result"
    }
   ],
   "source": [
    "from sklearn.ensemble import RandomForestRegressor\n",
    "\n",
    "regressor = RandomForestRegressor(n_estimators = 100, random_state = 0)\n",
    "\n",
    "regressor.fit(X_train, y_train)\n"
   ]
  },
  {
   "cell_type": "code",
   "execution_count": 28,
   "id": "983707d3",
   "metadata": {},
   "outputs": [
    {
     "data": {
      "text/plain": [
       "array([-0.67828944, -0.6281672 ,  0.22542736, ..., -0.40141207,\n",
       "       -0.40329219, -0.47855017])"
      ]
     },
     "execution_count": 28,
     "metadata": {},
     "output_type": "execute_result"
    }
   ],
   "source": [
    "Y_pred = regressor.predict(X_test)\n",
    "Y_pred"
   ]
  },
  {
   "cell_type": "code",
   "execution_count": 30,
   "id": "3a1867c6",
   "metadata": {},
   "outputs": [
    {
     "name": "stdout",
     "output_type": "stream",
     "text": [
      "Mean Absolute Error: 0.24162461813439187\n",
      "Mean Absolute % Error: 2.465400380000005\n",
      "Mean Squared Error: 0.20217934629141932\n",
      "Root Mean Squared Error: 0.44964357694892\n"
     ]
    }
   ],
   "source": [
    "print('Mean Absolute Error:', metrics.mean_absolute_error(y_test, Y_pred))\n",
    "print('Mean Absolute % Error:', metrics.mean_absolute_percentage_error(y_test, Y_pred))\n",
    "print('Mean Squared Error:', metrics.mean_squared_error(y_test, Y_pred))\n",
    "print('Root Mean Squared Error:', np.sqrt(metrics.mean_squared_error(y_test, Y_pred)))"
   ]
  },
  {
   "cell_type": "code",
   "execution_count": null,
   "id": "ba9f00d5",
   "metadata": {},
   "outputs": [],
   "source": []
  }
 ],
 "metadata": {
  "kernelspec": {
   "display_name": "Python 3 (ipykernel)",
   "language": "python",
   "name": "python3"
  },
  "language_info": {
   "codemirror_mode": {
    "name": "ipython",
    "version": 3
   },
   "file_extension": ".py",
   "mimetype": "text/x-python",
   "name": "python",
   "nbconvert_exporter": "python",
   "pygments_lexer": "ipython3",
   "version": "3.10.4"
  },
  "vscode": {
   "interpreter": {
    "hash": "fbc768028c3e6ead51d9a200ddcb2ec858ae62844dcd1994729a8279be9b48f2"
   }
  }
 },
 "nbformat": 4,
 "nbformat_minor": 5
}
