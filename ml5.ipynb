{
 "cells": [
  {
   "cell_type": "markdown",
   "id": "776c461a",
   "metadata": {},
   "source": [
    "Implement K-Means clustering/ hierarchical clustering on sales_data_sample.csv dataset.  Determine the number of clusters using the elbow method."
   ]
  },
  {
   "cell_type": "code",
   "execution_count": 1,
   "id": "450f6ef4",
   "metadata": {},
   "outputs": [],
   "source": [
    "import numpy as np\n",
    "import pandas as pd\n",
    "import matplotlib.pyplot as plt\n",
    "from sklearn.cluster import KMeans"
   ]
  },
  {
   "cell_type": "code",
   "execution_count": 4,
   "id": "8a10984d",
   "metadata": {},
   "outputs": [],
   "source": [
    "df = pd.read_csv('sales_data_sample.csv', encoding = 'unicode_escape')"
   ]
  },
  {
   "cell_type": "code",
   "execution_count": 5,
   "id": "ae6e6663",
   "metadata": {},
   "outputs": [
    {
     "data": {
      "text/html": [
       "<div>\n",
       "<style scoped>\n",
       "    .dataframe tbody tr th:only-of-type {\n",
       "        vertical-align: middle;\n",
       "    }\n",
       "\n",
       "    .dataframe tbody tr th {\n",
       "        vertical-align: top;\n",
       "    }\n",
       "\n",
       "    .dataframe thead th {\n",
       "        text-align: right;\n",
       "    }\n",
       "</style>\n",
       "<table border=\"1\" class=\"dataframe\">\n",
       "  <thead>\n",
       "    <tr style=\"text-align: right;\">\n",
       "      <th></th>\n",
       "      <th>ORDERNUMBER</th>\n",
       "      <th>QUANTITYORDERED</th>\n",
       "      <th>PRICEEACH</th>\n",
       "      <th>ORDERLINENUMBER</th>\n",
       "      <th>SALES</th>\n",
       "      <th>ORDERDATE</th>\n",
       "      <th>STATUS</th>\n",
       "      <th>QTR_ID</th>\n",
       "      <th>MONTH_ID</th>\n",
       "      <th>YEAR_ID</th>\n",
       "      <th>...</th>\n",
       "      <th>ADDRESSLINE1</th>\n",
       "      <th>ADDRESSLINE2</th>\n",
       "      <th>CITY</th>\n",
       "      <th>STATE</th>\n",
       "      <th>POSTALCODE</th>\n",
       "      <th>COUNTRY</th>\n",
       "      <th>TERRITORY</th>\n",
       "      <th>CONTACTLASTNAME</th>\n",
       "      <th>CONTACTFIRSTNAME</th>\n",
       "      <th>DEALSIZE</th>\n",
       "    </tr>\n",
       "  </thead>\n",
       "  <tbody>\n",
       "    <tr>\n",
       "      <th>0</th>\n",
       "      <td>10107</td>\n",
       "      <td>30</td>\n",
       "      <td>95.70</td>\n",
       "      <td>2</td>\n",
       "      <td>2871.00</td>\n",
       "      <td>2/24/2003 0:00</td>\n",
       "      <td>Shipped</td>\n",
       "      <td>1</td>\n",
       "      <td>2</td>\n",
       "      <td>2003</td>\n",
       "      <td>...</td>\n",
       "      <td>897 Long Airport Avenue</td>\n",
       "      <td>NaN</td>\n",
       "      <td>NYC</td>\n",
       "      <td>NY</td>\n",
       "      <td>10022</td>\n",
       "      <td>USA</td>\n",
       "      <td>NaN</td>\n",
       "      <td>Yu</td>\n",
       "      <td>Kwai</td>\n",
       "      <td>Small</td>\n",
       "    </tr>\n",
       "    <tr>\n",
       "      <th>1</th>\n",
       "      <td>10121</td>\n",
       "      <td>34</td>\n",
       "      <td>81.35</td>\n",
       "      <td>5</td>\n",
       "      <td>2765.90</td>\n",
       "      <td>5/7/2003 0:00</td>\n",
       "      <td>Shipped</td>\n",
       "      <td>2</td>\n",
       "      <td>5</td>\n",
       "      <td>2003</td>\n",
       "      <td>...</td>\n",
       "      <td>59 rue de l'Abbaye</td>\n",
       "      <td>NaN</td>\n",
       "      <td>Reims</td>\n",
       "      <td>NaN</td>\n",
       "      <td>51100</td>\n",
       "      <td>France</td>\n",
       "      <td>EMEA</td>\n",
       "      <td>Henriot</td>\n",
       "      <td>Paul</td>\n",
       "      <td>Small</td>\n",
       "    </tr>\n",
       "    <tr>\n",
       "      <th>2</th>\n",
       "      <td>10134</td>\n",
       "      <td>41</td>\n",
       "      <td>94.74</td>\n",
       "      <td>2</td>\n",
       "      <td>3884.34</td>\n",
       "      <td>7/1/2003 0:00</td>\n",
       "      <td>Shipped</td>\n",
       "      <td>3</td>\n",
       "      <td>7</td>\n",
       "      <td>2003</td>\n",
       "      <td>...</td>\n",
       "      <td>27 rue du Colonel Pierre Avia</td>\n",
       "      <td>NaN</td>\n",
       "      <td>Paris</td>\n",
       "      <td>NaN</td>\n",
       "      <td>75508</td>\n",
       "      <td>France</td>\n",
       "      <td>EMEA</td>\n",
       "      <td>Da Cunha</td>\n",
       "      <td>Daniel</td>\n",
       "      <td>Medium</td>\n",
       "    </tr>\n",
       "    <tr>\n",
       "      <th>3</th>\n",
       "      <td>10145</td>\n",
       "      <td>45</td>\n",
       "      <td>83.26</td>\n",
       "      <td>6</td>\n",
       "      <td>3746.70</td>\n",
       "      <td>8/25/2003 0:00</td>\n",
       "      <td>Shipped</td>\n",
       "      <td>3</td>\n",
       "      <td>8</td>\n",
       "      <td>2003</td>\n",
       "      <td>...</td>\n",
       "      <td>78934 Hillside Dr.</td>\n",
       "      <td>NaN</td>\n",
       "      <td>Pasadena</td>\n",
       "      <td>CA</td>\n",
       "      <td>90003</td>\n",
       "      <td>USA</td>\n",
       "      <td>NaN</td>\n",
       "      <td>Young</td>\n",
       "      <td>Julie</td>\n",
       "      <td>Medium</td>\n",
       "    </tr>\n",
       "    <tr>\n",
       "      <th>4</th>\n",
       "      <td>10159</td>\n",
       "      <td>49</td>\n",
       "      <td>100.00</td>\n",
       "      <td>14</td>\n",
       "      <td>5205.27</td>\n",
       "      <td>10/10/2003 0:00</td>\n",
       "      <td>Shipped</td>\n",
       "      <td>4</td>\n",
       "      <td>10</td>\n",
       "      <td>2003</td>\n",
       "      <td>...</td>\n",
       "      <td>7734 Strong St.</td>\n",
       "      <td>NaN</td>\n",
       "      <td>San Francisco</td>\n",
       "      <td>CA</td>\n",
       "      <td>NaN</td>\n",
       "      <td>USA</td>\n",
       "      <td>NaN</td>\n",
       "      <td>Brown</td>\n",
       "      <td>Julie</td>\n",
       "      <td>Medium</td>\n",
       "    </tr>\n",
       "  </tbody>\n",
       "</table>\n",
       "<p>5 rows × 25 columns</p>\n",
       "</div>"
      ],
      "text/plain": [
       "   ORDERNUMBER  QUANTITYORDERED  PRICEEACH  ORDERLINENUMBER    SALES  \\\n",
       "0        10107               30      95.70                2  2871.00   \n",
       "1        10121               34      81.35                5  2765.90   \n",
       "2        10134               41      94.74                2  3884.34   \n",
       "3        10145               45      83.26                6  3746.70   \n",
       "4        10159               49     100.00               14  5205.27   \n",
       "\n",
       "         ORDERDATE   STATUS  QTR_ID  MONTH_ID  YEAR_ID  ...  \\\n",
       "0   2/24/2003 0:00  Shipped       1         2     2003  ...   \n",
       "1    5/7/2003 0:00  Shipped       2         5     2003  ...   \n",
       "2    7/1/2003 0:00  Shipped       3         7     2003  ...   \n",
       "3   8/25/2003 0:00  Shipped       3         8     2003  ...   \n",
       "4  10/10/2003 0:00  Shipped       4        10     2003  ...   \n",
       "\n",
       "                    ADDRESSLINE1  ADDRESSLINE2           CITY STATE  \\\n",
       "0        897 Long Airport Avenue           NaN            NYC    NY   \n",
       "1             59 rue de l'Abbaye           NaN          Reims   NaN   \n",
       "2  27 rue du Colonel Pierre Avia           NaN          Paris   NaN   \n",
       "3             78934 Hillside Dr.           NaN       Pasadena    CA   \n",
       "4                7734 Strong St.           NaN  San Francisco    CA   \n",
       "\n",
       "  POSTALCODE COUNTRY TERRITORY CONTACTLASTNAME CONTACTFIRSTNAME DEALSIZE  \n",
       "0      10022     USA       NaN              Yu             Kwai    Small  \n",
       "1      51100  France      EMEA         Henriot             Paul    Small  \n",
       "2      75508  France      EMEA        Da Cunha           Daniel   Medium  \n",
       "3      90003     USA       NaN           Young            Julie   Medium  \n",
       "4        NaN     USA       NaN           Brown            Julie   Medium  \n",
       "\n",
       "[5 rows x 25 columns]"
      ]
     },
     "execution_count": 5,
     "metadata": {},
     "output_type": "execute_result"
    }
   ],
   "source": [
    "df.head()"
   ]
  },
  {
   "cell_type": "code",
   "execution_count": 30,
   "id": "77b2388e",
   "metadata": {},
   "outputs": [
    {
     "data": {
      "text/plain": [
       "ORDERNUMBER            0\n",
       "QUANTITYORDERED        0\n",
       "PRICEEACH              0\n",
       "ORDERLINENUMBER        0\n",
       "SALES                  0\n",
       "ORDERDATE              0\n",
       "STATUS                 0\n",
       "QTR_ID                 0\n",
       "MONTH_ID               0\n",
       "YEAR_ID                0\n",
       "PRODUCTLINE            0\n",
       "MSRP                   0\n",
       "PRODUCTCODE            0\n",
       "CUSTOMERNAME           0\n",
       "PHONE                  0\n",
       "ADDRESSLINE1           0\n",
       "ADDRESSLINE2        2521\n",
       "CITY                   0\n",
       "STATE               1486\n",
       "POSTALCODE            76\n",
       "COUNTRY                0\n",
       "TERRITORY           1074\n",
       "CONTACTLASTNAME        0\n",
       "CONTACTFIRSTNAME       0\n",
       "DEALSIZE               0\n",
       "dtype: int64"
      ]
     },
     "execution_count": 30,
     "metadata": {},
     "output_type": "execute_result"
    }
   ],
   "source": [
    "df.isnull().sum()"
   ]
  },
  {
   "cell_type": "code",
   "execution_count": 31,
   "id": "0c345b1c",
   "metadata": {},
   "outputs": [],
   "source": [
    "df.dropna(axis = 0, inplace = True)"
   ]
  },
  {
   "cell_type": "code",
   "execution_count": 32,
   "id": "e5b84d51",
   "metadata": {},
   "outputs": [
    {
     "data": {
      "text/plain": [
       "ORDERNUMBER         0\n",
       "QUANTITYORDERED     0\n",
       "PRICEEACH           0\n",
       "ORDERLINENUMBER     0\n",
       "SALES               0\n",
       "ORDERDATE           0\n",
       "STATUS              0\n",
       "QTR_ID              0\n",
       "MONTH_ID            0\n",
       "YEAR_ID             0\n",
       "PRODUCTLINE         0\n",
       "MSRP                0\n",
       "PRODUCTCODE         0\n",
       "CUSTOMERNAME        0\n",
       "PHONE               0\n",
       "ADDRESSLINE1        0\n",
       "ADDRESSLINE2        0\n",
       "CITY                0\n",
       "STATE               0\n",
       "POSTALCODE          0\n",
       "COUNTRY             0\n",
       "TERRITORY           0\n",
       "CONTACTLASTNAME     0\n",
       "CONTACTFIRSTNAME    0\n",
       "DEALSIZE            0\n",
       "dtype: int64"
      ]
     },
     "execution_count": 32,
     "metadata": {},
     "output_type": "execute_result"
    }
   ],
   "source": [
    "df.isnull().sum()"
   ]
  },
  {
   "cell_type": "code",
   "execution_count": 33,
   "id": "25a92347",
   "metadata": {},
   "outputs": [
    {
     "data": {
      "text/plain": [
       "array([[37,  1],\n",
       "       [20, 13],\n",
       "       [21,  9],\n",
       "       [30,  1],\n",
       "       [24,  4],\n",
       "       [29,  3],\n",
       "       [47,  4],\n",
       "       [26,  8],\n",
       "       [46,  2],\n",
       "       [49,  3],\n",
       "       [32,  2],\n",
       "       [27,  2],\n",
       "       [35,  4],\n",
       "       [37,  7],\n",
       "       [30,  2],\n",
       "       [28,  6],\n",
       "       [29,  3],\n",
       "       [49,  8],\n",
       "       [39,  9],\n",
       "       [35, 13],\n",
       "       [36,  3],\n",
       "       [43,  8],\n",
       "       [42,  5],\n",
       "       [27,  1],\n",
       "       [29, 10],\n",
       "       [23, 13],\n",
       "       [40,  2],\n",
       "       [32,  1],\n",
       "       [31,  7],\n",
       "       [35,  2],\n",
       "       [49,  6],\n",
       "       [21,  7],\n",
       "       [42,  3],\n",
       "       [47,  9],\n",
       "       [37,  5],\n",
       "       [55,  1],\n",
       "       [25, 12],\n",
       "       [22,  3],\n",
       "       [36,  4],\n",
       "       [22,  5],\n",
       "       [45,  2],\n",
       "       [50,  8],\n",
       "       [22,  7],\n",
       "       [44,  5],\n",
       "       [29,  8],\n",
       "       [47,  9],\n",
       "       [46,  4],\n",
       "       [28,  5],\n",
       "       [34,  2],\n",
       "       [41,  8],\n",
       "       [21,  6],\n",
       "       [27, 10],\n",
       "       [46,  1],\n",
       "       [31, 10],\n",
       "       [48,  9],\n",
       "       [32,  6],\n",
       "       [20,  3],\n",
       "       [34, 10],\n",
       "       [20,  2],\n",
       "       [38, 11],\n",
       "       [45, 11],\n",
       "       [32, 14],\n",
       "       [30,  4],\n",
       "       [27,  9],\n",
       "       [32,  5],\n",
       "       [25,  5],\n",
       "       [30,  5],\n",
       "       [26, 12],\n",
       "       [36,  4],\n",
       "       [55,  7],\n",
       "       [28, 11],\n",
       "       [38,  8],\n",
       "       [26,  8],\n",
       "       [34,  1],\n",
       "       [66,  6],\n",
       "       [38,  3],\n",
       "       [45,  4],\n",
       "       [29,  6],\n",
       "       [44,  7],\n",
       "       [20,  2],\n",
       "       [33,  7],\n",
       "       [38, 11],\n",
       "       [29,  2],\n",
       "       [36,  7],\n",
       "       [25,  6],\n",
       "       [60, 11],\n",
       "       [35,  1],\n",
       "       [32,  2],\n",
       "       [47,  8],\n",
       "       [37, 13],\n",
       "       [39, 10],\n",
       "       [34, 11],\n",
       "       [33,  8],\n",
       "       [45,  1],\n",
       "       [34,  5],\n",
       "       [38,  6],\n",
       "       [24,  1],\n",
       "       [38, 11],\n",
       "       [21,  4],\n",
       "       [39,  9],\n",
       "       [34,  3],\n",
       "       [55,  8],\n",
       "       [39,  9],\n",
       "       [31,  5],\n",
       "       [35, 10],\n",
       "       [34,  1],\n",
       "       [48, 10],\n",
       "       [34,  6],\n",
       "       [27,  7],\n",
       "       [26, 12],\n",
       "       [42,  6],\n",
       "       [26,  7],\n",
       "       [15,  3],\n",
       "       [29,  4],\n",
       "       [29,  9],\n",
       "       [23, 10],\n",
       "       [25,  1],\n",
       "       [24,  6],\n",
       "       [32,  1],\n",
       "       [22,  6],\n",
       "       [21,  7],\n",
       "       [26,  9],\n",
       "       [21,  5],\n",
       "       [25,  3],\n",
       "       [29, 11],\n",
       "       [20, 12],\n",
       "       [49,  2],\n",
       "       [34, 12],\n",
       "       [49, 12],\n",
       "       [41, 13],\n",
       "       [33,  3],\n",
       "       [48, 10],\n",
       "       [47, 13],\n",
       "       [25, 14],\n",
       "       [20,  4],\n",
       "       [24, 14],\n",
       "       [24, 15],\n",
       "       [26,  9],\n",
       "       [46,  4],\n",
       "       [24,  7],\n",
       "       [29,  8],\n",
       "       [44,  5],\n",
       "       [43, 14],\n",
       "       [26, 15],\n",
       "       [44, 10],\n",
       "       [35, 11],\n",
       "       [23, 12]], dtype=int64)"
      ]
     },
     "execution_count": 33,
     "metadata": {},
     "output_type": "execute_result"
    }
   ],
   "source": [
    "x = df.iloc[:,[1,3]].values\n",
    "x"
   ]
  },
  {
   "cell_type": "code",
   "execution_count": 34,
   "id": "80154692",
   "metadata": {},
   "outputs": [],
   "source": [
    "wcss = []\n",
    "for i in range(1,11):\n",
    "    kmeans = KMeans(n_clusters=i, init='k-means++', random_state=42)\n",
    "    kmeans.fit(x)\n",
    "    wcss.append(kmeans.inertia_)"
   ]
  },
  {
   "cell_type": "code",
   "execution_count": 35,
   "id": "3cc03ac2",
   "metadata": {},
   "outputs": [
    {
     "data": {
      "text/plain": [
       "[<matplotlib.lines.Line2D at 0x2615d45d4e0>]"
      ]
     },
     "execution_count": 35,
     "metadata": {},
     "output_type": "execute_result"
    },
    {
     "data": {
      "image/png": "[encoded data removed]",
      "text/plain": [
       "<Figure size 432x288 with 1 Axes>"
      ]
     },
     "metadata": {
      "needs_background": "light"
     },
     "output_type": "display_data"
    }
   ],
   "source": [
    "plt.plot(range(1,11),wcss)"
   ]
  },
  {
   "cell_type": "code",
   "execution_count": 36,
   "id": "3180ef5a",
   "metadata": {},
   "outputs": [],
   "source": [
    "kmeans = KMeans(n_clusters=2, init='k-means++', random_state=42)\n",
    "y_kmeans = kmeans.fit_predict(x)"
   ]
  },
  {
   "cell_type": "code",
   "execution_count": 38,
   "id": "16144901",
   "metadata": {},
   "outputs": [
    {
     "data": {
      "text/plain": [
       "<matplotlib.collections.PathCollection at 0x2615d7355a0>"
      ]
     },
     "execution_count": 38,
     "metadata": {},
     "output_type": "execute_result"
    },
    {
     "data": {
      "image/png": "[encoded data removed]",
      "text/plain": [
       "<Figure size 432x288 with 1 Axes>"
      ]
     },
     "metadata": {
      "needs_background": "light"
     },
     "output_type": "display_data"
    }
   ],
   "source": [
    "plt.scatter(x[y_kmeans == 0,0],x[y_kmeans == 0,1],c='red')\n",
    "plt.scatter(x[y_kmeans == 1,0],x[y_kmeans == 1,1],c='yellow')\n",
    "plt.scatter(kmeans.cluster_centers_[:,0],kmeans.cluster_centers_[:,1],c='black')"
   ]
  },
  {
   "cell_type": "code",
   "execution_count": null,
   "id": "fa390e1b",
   "metadata": {},
   "outputs": [],
   "source": []
  }
 ],
 "metadata": {
  "kernelspec": {
   "display_name": "Python 3 (ipykernel)",
   "language": "python",
   "name": "python3"
  },
  "language_info": {
   "codemirror_mode": {
    "name": "ipython",
    "version": 3
   },
   "file_extension": ".py",
   "mimetype": "text/x-python",
   "name": "python",
   "nbconvert_exporter": "python",
   "pygments_lexer": "ipython3",
   "version": "3.10.4"
  }
 },
 "nbformat": 4,
 "nbformat_minor": 5
}
